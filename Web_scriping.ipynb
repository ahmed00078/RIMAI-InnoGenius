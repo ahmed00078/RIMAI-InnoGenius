{
  "cells": [
    {
      "cell_type": "markdown",
      "metadata": {},
      "source": [
        "## Installation des bibliothèques nécessaires\n",
        "- **requests :** pour les requêtes HTTP \n",
        "- **beautifulsoup4 :** pour l'analyse HTML\n",
        "- **PyDrive :** pour l'interaction avec Google Drive (optionnel)"
      ]
    },
    {
      "cell_type": "code",
      "execution_count": 1,
      "metadata": {
        "colab": {
          "base_uri": "https://localhost:8080/"
        },
        "id": "P1UxT1MjniZ9",
        "outputId": "17f04360-7fd2-44bf-be21-07b7f8dfe8d6"
      },
      "outputs": [],
      "source": [
        "!pip install requests\n",
        "!pip install beautifulsoup4\n",
        "!pip install PyDrive"
      ]
    },
    {
      "cell_type": "markdown",
      "metadata": {},
      "source": [
        "## Web Scraping des Images\n",
        "\n",
        "La cellule de code suivante définit une fonction `download_images` qui permet de télécharger automatiquement toutes les images d'une page web donnée. Cette technique, appelée web scraping, est utilisée ici pour collecter rapidement un grand nombre d'images pour notre jeu de données.\n",
        "\n",
        "**Important :** \n",
        "- Assurez-vous d'avoir les droits nécessaires pour utiliser les images du site web choisi.\n",
        "- Remplacez l'URL exemple par celle de votre choix.\n",
        "- Ajustez le chemin du dossier de destination selon votre structure Google Drive."
      ]
    },
    {
      "cell_type": "code",
      "execution_count": 2,
      "metadata": {
        "colab": {
          "base_uri": "https://localhost:8080/"
        },
        "id": "maKUB3QtnOFu",
        "outputId": "d77fe5ca-b141-41ea-e043-22da4d666ded"
      },
      "outputs": [],
      "source": [
        "# Importation des bibliothèques nécessaires\n",
        "from bs4 import BeautifulSoup  # Pour l'analyse du contenu HTML\n",
        "import requests  # Pour envoyer des requêtes HTTP\n",
        "import os  # Pour les opérations sur les fichiers et répertoires\n",
        "from google.colab import drive  # Pour monter Google Drive dans Colab\n",
        "\n",
        "# Fonction pour télécharger des images depuis une URL\n",
        "def download_images(url, folder_path):\n",
        "    # Envoyer une requête GET à l'URL\n",
        "    response = requests.get(url)\n",
        "    # Analyser le contenu HTML de la réponse\n",
        "    soup = BeautifulSoup(response.text, 'html.parser')\n",
        "    # Trouver toutes les balises <img> (images) dans le HTML\n",
        "    images = soup.find_all('img')\n",
        "\n",
        "    # Vérifier si le chemin du dossier existe, sinon le créer\n",
        "    if not os.path.exists(folder_path):\n",
        "        os.makedirs(folder_path)\n",
        "\n",
        "    for img in images:\n",
        "        # Obtenir l'URL source de l'image\n",
        "        img_url = img.get('src')\n",
        "        # Vérifier si l'URL de l'image est relative (ne commence pas par http ou https)\n",
        "        if not img_url.startswith(('http:', 'https:')):\n",
        "            # Rendre l'URL absolue en la joignant avec l'URL de base\n",
        "            img_url = requests.compat.urljoin(url, img_url)\n",
        "        # Obtenir le nom de l'image à partir de l'URL\n",
        "        img_name = os.path.basename(img_url)\n",
        "        # Créer le chemin complet pour sauvegarder l'image\n",
        "        full_path = os.path.join(folder_path, img_name)\n",
        "\n",
        "        # Télécharger et sauvegarder l'image\n",
        "        with open(full_path, 'wb') as file:\n",
        "            img_response = requests.get(img_url)\n",
        "            file.write(img_response.content)\n",
        "\n",
        "    print(f'Téléchargé {len(images)} images dans {folder_path}')\n",
        "\n",
        "# Exemple d'utilisation\n",
        "download_images('https://www.behance.net/gallery/99930185/Mercedes-of-Mauritania', '/content/drive/MyDrive/RIMAI/behance')"
      ]
    },
    {
      "cell_type": "markdown",
      "metadata": {},
      "source": [
        "## Renommage des Images\n",
        "\n",
        "Pour répondre aux exigences du challenge, nous devons renommer nos images selon un format spécifique. La cellule de code ci-dessous contient une fonction `rename_images` qui s'occupe de cette tâche.\n",
        "\n",
        "Le format de nommage est le suivant :\n",
        "- Pour les images web : `web{numéro}_image_name.{extension}`\n",
        "- Pour les photos de caméra : `cam{numéro}_image_name.{extension}`\n",
        "\n",
        "**Note :** \n",
        "- Assurez-vous que les chemins vers vos dossiers d'images sont corrects.\n",
        "- La fonction traitera tous les fichiers image (jpg, jpeg, png, gif) dans les dossiers spécifiés."
      ]
    },
    {
      "cell_type": "code",
      "execution_count": 3,
      "metadata": {
        "colab": {
          "base_uri": "https://localhost:8080/"
        },
        "id": "H2yBe0fAQsFM",
        "outputId": "0ad8925f-56bb-4173-8d3a-fbb203e3f273"
      },
      "outputs": [],
      "source": [
        "from google.colab import drive\n",
        "import os\n",
        "\n",
        "# Monter Google Drive dans l'environnement Colab\n",
        "# Cela permet d'accéder aux fichiers stockés sur votre Google Drive\n",
        "drive.mount('/content/drive')\n",
        "\n",
        "# Définir les chemins vers les dossiers contenant les images\n",
        "# Un dossier pour les images web scrapées et un autre pour les photos prises avec une caméra\n",
        "web_images_folder = '/content/drive/MyDrive/RIMAI/by scarp1'\n",
        "cam_images_folder = '/content/drive/MyDrive/RIMAI/Camera'\n",
        "\n",
        "# Fonction pour renommer les images avec un identifiant unique incrémental\n",
        "# et une partie fixe du nom (dans ce cas, \"image_name\")\n",
        "def rename_images(folder_path, prefix):\n",
        "    counter = 1\n",
        "    for filename in os.listdir(folder_path):\n",
        "        # Vérifier si le fichier est une image en se basant sur son extension\n",
        "        if filename.lower().endswith(('.jpeg', '.jpg', '.png', '.gif')):\n",
        "            # Séparer le nom du fichier de son extension\n",
        "            base_name = os.path.splitext(filename)[0]\n",
        "            file_extension = os.path.splitext(filename)[1]\n",
        "            \n",
        "            # Construire le nouveau nom de fichier\n",
        "            # Format : prefix + numéro + partie fixe + extension\n",
        "            # Exemple : web1_image_name.jpg ou cam1_image_name.png\n",
        "            new_name = f\"{prefix}{counter}_image_name{file_extension}\"\n",
        "            \n",
        "            # Créer les chemins complets pour l'ancien et le nouveau fichier\n",
        "            old_file = os.path.join(folder_path, filename)\n",
        "            new_file = os.path.join(folder_path, new_name)\n",
        "            \n",
        "            # Renommer le fichier\n",
        "            os.rename(old_file, new_file)\n",
        "            print(f'Renamed {old_file} to {new_file}')\n",
        "            \n",
        "            # Incrémenter le compteur pour le prochain fichier\n",
        "            counter += 1\n",
        "\n",
        "# Appliquer la fonction de renommage aux images web\n",
        "# Le préfixe 'web' est utilisé, donc les fichiers seront nommés web1_image_name.jpg, web2_image_name.png, etc.\n",
        "rename_images(web_images_folder, 'web')\n",
        "\n",
        "# Appliquer la fonction de renommage aux photos de caméra\n",
        "# Le préfixe 'cam' est utilisé, donc les fichiers seront nommés cam1_image_name.jpg, cam2_image_name.png, etc.\n",
        "rename_images(cam_images_folder, 'cam')"
      ]
    }
  ],
  "metadata": {
    "colab": {
      "provenance": []
    },
    "kernelspec": {
      "display_name": "Python 3",
      "name": "python3"
    },
    "language_info": {
      "codemirror_mode": {
        "name": "ipython",
        "version": 3
      },
      "file_extension": ".py",
      "mimetype": "text/x-python",
      "name": "python",
      "nbconvert_exporter": "python",
      "pygments_lexer": "ipython3",
      "version": "3.10.12"
    }
  },
  "nbformat": 4,
  "nbformat_minor": 0
}
